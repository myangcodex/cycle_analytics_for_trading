{
 "cells": [
  {
   "cell_type": "code",
   "execution_count": 1,
   "id": "written-albert",
   "metadata": {},
   "outputs": [],
   "source": [
    "class TimeDomainFilter:\n",
    "    def __init__(self, K, period):\n",
    "        self.K = K\n",
    "        self.period = period\n",
    "        self.alpha = (cos(np.degrees(self.K*360/self.period)) + sin(np.degrees(self.K*360/self.period)) - 1) / cos(np.degrees(self.K*360/self.period))\n",
    "        print(self.alpha)\n",
    "        #self.alpha = 0.2\n",
    "        self.filter_bank = {\n",
    "            'LPF-2pole' : [self.alpha**2, 0, 0, 1, -2*(1-self.alpha), (1-self.alpha)**2],\n",
    "            'HPF-2pole' : [(1-self.alpha/2)**2, -2*(1-self.alpha/2)**2, (1-self.alpha/2)**2, 1, -2*(1-self.alpha), (1-self.alpha)**2],\n",
    "            'HPF' : [1-self.alpha/2, -(1-self.alpha/2), 0, 1, -(1-self.alpha), 0],\n",
    "            'decycler' : [self.alpha/2, self.alpha/2, 0, 1, -(1-self.alpha), 0]\n",
    "        }\n",
    "        \n",
    "    def decycle(self, data, filter_type):\n",
    "        # this is just a decycler right now.\n",
    "        self.filter_constants = self.filter_bank[filter_type]\n",
    "        b0,b1,b2 = self.filter_constants[0], self.filter_constants[1],self.filter_constants[2]\n",
    "        a0,a1,a2 = self.filter_constants[3], self.filter_constants[4], self.filter_constants[5]\n",
    "        \n",
    "        outputs = np.copy(data)\n",
    "        \n",
    "        i = 1 # decycler is 1st order filter       \n",
    "        while i < len(data):\n",
    "            cur_output = b0 * data[i] + b1 * data[i-1] - a1 * outputs[i-1]\n",
    "            outputs[i]=cur_output\n",
    "            i += 1\n",
    "        return outputs\n",
    "    \n",
    "    def high_pass_filter(self, data, filter_type):\n",
    "        self.filter_constants = self.filter_bank[filter_type]\n",
    "        b0,b1,b2 = self.filter_constants[0], self.filter_constants[1],self.filter_constants[2]\n",
    "        a0,a1,a2 = self.filter_constants[3], self.filter_constants[4], self.filter_constants[5]\n",
    "        \n",
    "        outputs = np.copy(data)\n",
    "        \n",
    "        i = 1\n",
    "        if filter_type == 'HPF-2pole':\n",
    "            i = 2\n",
    "            \n",
    "        while i < len(data):\n",
    "            cur_output = b0 * data[i] + b1 * data[i-1] + b2 * data[i-2] - a1 * outputs[i-1] - a2 * outputs[i-2]\n",
    "            outputs[i]=cur_output\n",
    "            i += 1\n",
    "        return outputs"
   ]
  },
  {
   "cell_type": "code",
   "execution_count": 2,
   "id": "refined-straight",
   "metadata": {},
   "outputs": [],
   "source": [
    "from math import cos, sin, pi\n",
    "import numpy as np\n",
    "K = 1 # test with only single pole for now\n",
    "cutoff = 30"
   ]
  },
  {
   "cell_type": "markdown",
   "id": "vital-character",
   "metadata": {},
   "source": [
    "   \n"
   ]
  }
 ],
 "metadata": {
  "kernelspec": {
   "display_name": "Python 3",
   "language": "python",
   "name": "python3"
  },
  "language_info": {
   "codemirror_mode": {
    "name": "ipython",
    "version": 3
   },
   "file_extension": ".py",
   "mimetype": "text/x-python",
   "name": "python",
   "nbconvert_exporter": "python",
   "pygments_lexer": "ipython3",
   "version": "3.9.1"
  }
 },
 "nbformat": 4,
 "nbformat_minor": 5
}
